{
 "cells": [
  {
   "cell_type": "code",
   "execution_count": 14,
   "metadata": {},
   "outputs": [
    {
     "name": "stdout",
     "output_type": "stream",
     "text": [
      "Enter Marks Of Computer: 20\n",
      "Enter Marks Of Maths: 20\n",
      "Enter Marks Of Physics: 20\n",
      "Enter Marks Of Chemistery: 20\n",
      "Enter Marks Of Urdu: 20\n",
      "\n",
      "A+\n",
      "Total =  100\n"
     ]
    }
   ],
   "source": [
    "computer = int(input(\"Enter Marks Of Computer: \"))\n",
    "maths = int(input(\"Enter Marks Of Maths: \"))\n",
    "physics = int(input(\"Enter Marks Of Physics: \"))\n",
    "chemistery = int(input(\"Enter Marks Of Chemistery: \"))\n",
    "urdu = int(input(\"Enter Marks Of Urdu: \"))\n",
    "\n",
    "total = computer + maths + physics + chemistery + urdu\n",
    "\n",
    "if total > 80 and total <= 100:\n",
    "    print(\"\\nA+\")\n",
    "\n",
    "elif total <= 80 and total >= 75:\n",
    "    print(\"\\nA\")\n",
    "    \n",
    "elif total < 75 and total >= 50:\n",
    "    print(\"\\nB\")\n",
    "    \n",
    "elif total < 50 and total >= 40:\n",
    "    print(\"\\nC\")\n",
    "    \n",
    "elif total < 40 and total >= 30:\n",
    "    print(\"\\nD\")\n",
    "    \n",
    "elif total < 30 and total >= 20:\n",
    "    print(\"\\nF\")\n",
    "    \n",
    "print(\"Total = \", total)"
   ]
  },
  {
   "cell_type": "code",
   "execution_count": 21,
   "metadata": {},
   "outputs": [
    {
     "name": "stdout",
     "output_type": "stream",
     "text": [
      "Enter Number To Check Even Or Odd: 2\n",
      "\n",
      "The Number is EVEN\n"
     ]
    }
   ],
   "source": [
    "number = int(input(\"Enter Number To Check Even Or Odd: \"))\n",
    "\n",
    "if number % 2 == 0:\n",
    "    print(\"\\nThe Number is EVEN\")\n",
    "else:\n",
    "    print(\"\\nThe Number is ODD\")"
   ]
  },
  {
   "cell_type": "code",
   "execution_count": 32,
   "metadata": {},
   "outputs": [
    {
     "name": "stdout",
     "output_type": "stream",
     "text": [
      "Length Of The List = 10\n"
     ]
    }
   ],
   "source": [
    "list = {1, 2, 3, 4, 5, 6, 7, 8, 9, 10}\n",
    "\n",
    "print(\"Length Of The List =\", len(list))"
   ]
  },
  {
   "cell_type": "code",
   "execution_count": 31,
   "metadata": {},
   "outputs": [
    {
     "name": "stdout",
     "output_type": "stream",
     "text": [
      "Sum Of All Items in The List = 55\n"
     ]
    }
   ],
   "source": [
    "list = {1, 2, 3, 4, 5, 6, 7, 8, 9, 10}\n",
    "\n",
    "print(\"Sum Of All Items in The List =\", sum(list))"
   ]
  },
  {
   "cell_type": "code",
   "execution_count": 30,
   "metadata": {},
   "outputs": [
    {
     "name": "stdout",
     "output_type": "stream",
     "text": [
      "Largest = 10\n"
     ]
    }
   ],
   "source": [
    "list = {1, 2, 3, 4, 5, 6, 7, 8, 9, 10}\n",
    "\n",
    "print(\"Largest =\", max(list))"
   ]
  },
  {
   "cell_type": "code",
   "execution_count": 35,
   "metadata": {},
   "outputs": [
    {
     "name": "stdout",
     "output_type": "stream",
     "text": [
      "Element > 5 are = 34\n",
      "Element > 5 are = 8\n",
      "Element > 5 are = 13\n",
      "Element > 5 are = 84\n",
      "Element > 5 are = 21\n",
      "Element > 5 are = 55\n"
     ]
    }
   ],
   "source": [
    "a = {1, 1, 2, 3, 5, 8, 13, 21, 34, 55, 84}\n",
    "\n",
    "for i in a:\n",
    "    if i > 5:\n",
    "        print(\"Element > 5 are =\", i)"
   ]
  }
 ],
 "metadata": {
  "kernelspec": {
   "display_name": "Python 3",
   "language": "python",
   "name": "python3"
  },
  "language_info": {
   "codemirror_mode": {
    "name": "ipython",
    "version": 3
   },
   "file_extension": ".py",
   "mimetype": "text/x-python",
   "name": "python",
   "nbconvert_exporter": "python",
   "pygments_lexer": "ipython3",
   "version": "3.7.4"
  }
 },
 "nbformat": 4,
 "nbformat_minor": 2
}
