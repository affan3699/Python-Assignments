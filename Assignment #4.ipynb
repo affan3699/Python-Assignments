{
 "cells": [
  {
   "cell_type": "code",
   "execution_count": null,
   "metadata": {},
   "outputs": [],
   "source": []
  },
  {
   "cell_type": "code",
   "execution_count": null,
   "metadata": {},
   "outputs": [],
   "source": []
  },
  {
   "cell_type": "code",
   "execution_count": 4,
   "metadata": {},
   "outputs": [
    {
     "name": "stdout",
     "output_type": "stream",
     "text": [
      "Enter Your Age: 1\n",
      "Ticket is Free\n",
      "Enter Your Age: 5\n",
      "Your Ticket is Of 10$\n",
      "Enter Your Age: 16\n",
      "Your Ticket is Of 15$\n",
      "Enter Your Age: -1\n"
     ]
    }
   ],
   "source": [
    "age = 9\n",
    "\n",
    "while age > 0:\n",
    "    age = int(input(\"Enter Your Age: \"))\n",
    "    if age > 0 and age < 3:\n",
    "        print(\"Ticket is Free\")\n",
    "    elif age > 3 and age < 12:\n",
    "        print(\"Your Ticket is Of 10$\")\n",
    "    elif age > 12:\n",
    "        print(\"Your Ticket is Of 15$\")"
   ]
  },
  {
   "cell_type": "code",
   "execution_count": 5,
   "metadata": {},
   "outputs": [
    {
     "name": "stdout",
     "output_type": "stream",
     "text": [
      "One Of My Favourite Book is Harry Potter\n"
     ]
    }
   ],
   "source": [
    "def favorite_book(title):\n",
    "    print(\"One Of My Favourite Book is \" + title)\n",
    "    \n",
    "favorite_book(\"Harry Potter\")"
   ]
  },
  {
   "cell_type": "code",
   "execution_count": 1,
   "metadata": {},
   "outputs": [
    {
     "name": "stdout",
     "output_type": "stream",
     "text": [
      "Enter a Number To Guess: 2\n",
      "You Guessed Wrong Number\n",
      "Number is greater\n",
      "Enter a Number To Guess: 2\n",
      "You Guessed Wrong Number\n",
      "Number is greater\n",
      "Enter a Number To Guess: 2\n",
      "You Guessed Wrong Number\n",
      "Number is greater\n",
      "The Number Was 17\n"
     ]
    }
   ],
   "source": [
    "import random\n",
    "\n",
    "i = 0\n",
    "randomNumber = (random.randrange(1, 30, 2))\n",
    "\n",
    "while i < 3:\n",
    "    numb = int(input(\"Enter a Number To Guess: \"))\n",
    "    i = i + 1\n",
    "    \n",
    "    if numb == randomNumber:\n",
    "        print(\"You Guessed Right Number\")\n",
    "       \n",
    "    else:\n",
    "        print(\"You Guessed Wrong Number\")\n",
    "        if randomNumber < numb:\n",
    "            print(\"Number is Smaller\")\n",
    "        else:\n",
    "            print(\"Number is greater\")\n",
    "            \n",
    "print(\"The Number Was\",randomNumber)\n",
    "        "
   ]
  }
 ],
 "metadata": {
  "kernelspec": {
   "display_name": "Python 3",
   "language": "python",
   "name": "python3"
  },
  "language_info": {
   "codemirror_mode": {
    "name": "ipython",
    "version": 3
   },
   "file_extension": ".py",
   "mimetype": "text/x-python",
   "name": "python",
   "nbconvert_exporter": "python",
   "pygments_lexer": "ipython3",
   "version": "3.7.4"
  }
 },
 "nbformat": 4,
 "nbformat_minor": 2
}
