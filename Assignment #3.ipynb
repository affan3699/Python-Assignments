{
 "cells": [
  {
   "cell_type": "code",
   "execution_count": 6,
   "metadata": {},
   "outputs": [
    {
     "name": "stdout",
     "output_type": "stream",
     "text": [
      "Enter Num1: 2\n",
      "Enter Num2: 1\n",
      "Enter Operator: /\n",
      "Answer =  2.0\n"
     ]
    }
   ],
   "source": [
    "num1 = int(input(\"Enter Num1: \"))\n",
    "num2 = int(input(\"Enter Num2: \"))\n",
    "operator = input(\"Enter Operator: \")\n",
    "\n",
    "if(operator == '+'):\n",
    "    ans = num1 + num2\n",
    "    print(\"Answer = \",ans)\n",
    "elif(operator == '-'):\n",
    "    ans = num1 - num2\n",
    "    print(\"Answer = \",ans)\n",
    "elif(operator == '*'):\n",
    "    ans = num1 * num2\n",
    "    print(\"Answer = \",ans)\n",
    "elif(operator == '/'):\n",
    "    ans = num1 / num2\n",
    "    print(\"Answer = \",ans)\n",
    "else:\n",
    "    print(\"Not a Valid Operator\")"
   ]
  },
  {
   "cell_type": "code",
   "execution_count": 10,
   "metadata": {},
   "outputs": [
    {
     "name": "stdout",
     "output_type": "stream",
     "text": [
      "Numeric Value Exists\n"
     ]
    }
   ],
   "source": [
    "list = {\"World\", \"Hello World\", \"World\", \"HI\", \"World\", \"Hasan\", \"World\", \"World\", 1}\n",
    "\n",
    "for i in list:\n",
    "    if i >= 0 and i <= 9:\n",
    "        print(\"Numeric Value Exists\")\n",
    "        break"
   ]
  },
  {
   "cell_type": "code",
   "execution_count": 16,
   "metadata": {},
   "outputs": [
    {
     "name": "stdout",
     "output_type": "stream",
     "text": [
      "FirstName: Affan\n",
      "Age: 20\n",
      "LastName: Murtaza\n"
     ]
    }
   ],
   "source": [
    "student = {\n",
    "    \"FirstName\": \"Affan\",\n",
    "    \"Age\": \"20\"\n",
    "}\n",
    "\n",
    "student[\"LastName\"] = \"Murtaza\"\n",
    "\n",
    "for key, value in student.items():\n",
    "    print(key + \": \" + value)"
   ]
  },
  {
   "cell_type": "code",
   "execution_count": 32,
   "metadata": {},
   "outputs": [
    {
     "name": "stdout",
     "output_type": "stream",
     "text": [
      "Sum = 600\n"
     ]
    }
   ],
   "source": [
    "studentMarks = {\n",
    "    'English':100,\n",
    "    'Maths':200,\n",
    "    'Computer':300\n",
    "}\n",
    "print(\"Sum =\", sum(studentMarks.values()))\n"
   ]
  },
  {
   "cell_type": "code",
   "execution_count": 39,
   "metadata": {},
   "outputs": [
    {
     "name": "stdout",
     "output_type": "stream",
     "text": [
      "Duplicate Value = [100]\n"
     ]
    }
   ],
   "source": [
    "studentMarks = {\n",
    "    'English':100,\n",
    "    'Maths':100,\n",
    "    'Computer':300\n",
    "}\n",
    "\n",
    "temp = {}\n",
    "\n",
    "for key, value in studentMarks.items(): \n",
    "    temp.setdefault(value, set()).add(key)\n",
    "    \n",
    "duplicate = [key for key, values in temp.items() \n",
    "                              if len(values) > 1] \n",
    "\n",
    "print(\"Duplicate Value =\", duplicate)"
   ]
  },
  {
   "cell_type": "code",
   "execution_count": 48,
   "metadata": {},
   "outputs": [
    {
     "name": "stdout",
     "output_type": "stream",
     "text": [
      "Enter a Key To Check if Exists: English\n",
      "Given Key Already Exists \n",
      "value = 100\n"
     ]
    }
   ],
   "source": [
    "studentMarks = {\n",
    "    'English':100,\n",
    "    'English':100,\n",
    "    'Computer':300\n",
    "}\n",
    "\n",
    "key = input(\"Enter a Key To Check if Exists: \")\n",
    "\n",
    "if key in studentMarks.keys(): \n",
    "        print(\"Given Key Already Exists \") \n",
    "        print(\"value =\", studentMarks[key]) \n",
    "else: \n",
    "        print(\"Not present\")"
   ]
  }
 ],
 "metadata": {
  "kernelspec": {
   "display_name": "Python 3",
   "language": "python",
   "name": "python3"
  },
  "language_info": {
   "codemirror_mode": {
    "name": "ipython",
    "version": 3
   },
   "file_extension": ".py",
   "mimetype": "text/x-python",
   "name": "python",
   "nbconvert_exporter": "python",
   "pygments_lexer": "ipython3",
   "version": "3.7.4"
  }
 },
 "nbformat": 4,
 "nbformat_minor": 2
}
