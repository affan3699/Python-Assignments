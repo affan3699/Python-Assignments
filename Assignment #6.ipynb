{
 "cells": [
  {
   "cell_type": "code",
   "execution_count": 2,
   "metadata": {},
   "outputs": [
    {
     "name": "stdout",
     "output_type": "stream",
     "text": [
      "Object-oriented programming aims to implement real-world entities like inheritance, hiding, polymorphism, etc in programming. The main aim of OOP is to bind together the data and the functions that operate on them so that no other part of the code can access this data except that function.\n"
     ]
    }
   ],
   "source": [
    "print(\"Object-oriented programming aims to implement real-world entities like inheritance, hiding, polymorphism, etc in programming. The main aim of OOP is to bind together the data and the functions that operate on them so that no other part of the code can access this data except that function.\")"
   ]
  },
  {
   "cell_type": "code",
   "execution_count": 8,
   "metadata": {},
   "outputs": [
    {
     "name": "stdout",
     "output_type": "stream",
     "text": [
      "The Programming gets Easy and Efficent\n",
      "Codes can be reused, as once a class is created, it can be used anywhere in the Program\n",
      "Data Security is increased due to Encapsulation, as attrubutes can be made private\n",
      "Effective Problem Solving\n",
      "Programmer Productivity Increases\n"
     ]
    }
   ],
   "source": [
    "print(\"The Programming gets Easy and Efficent\")\n",
    "print(\"Codes can be reused, as once a class is created, it can be used anywhere in the Program\")\n",
    "print(\"Data Security is increased due to Encapsulation, as attrubutes can be made private\")\n",
    "print(\"Effective Problem Solving\")\n",
    "print(\"Programmer Productivity Increases\")"
   ]
  },
  {
   "cell_type": "code",
   "execution_count": 27,
   "metadata": {},
   "outputs": [
    {
     "name": "stdout",
     "output_type": "stream",
     "text": [
      "A function is Called without an object, while method has to be called with object only\n",
      "A method is similar to a function, but is internal to part of a class\n"
     ]
    }
   ],
   "source": [
    "print(\"A function is Called without an object, while method has to be called with object only\")\n",
    "print(\"A method is similar to a function, but is internal to part of a class\")"
   ]
  },
  {
   "cell_type": "code",
   "execution_count": 13,
   "metadata": {},
   "outputs": [
    {
     "name": "stdout",
     "output_type": "stream",
     "text": [
      "A Class is an Reprsentation of an object\n",
      "An Object is an instance Of a class\n",
      "Attributes are data stored inside a class or instance\n",
      "A class's behavior determines how an instance of that class operates, in short the methods we create to do particular task.\n"
     ]
    }
   ],
   "source": [
    "print(\"A Class is an Reprsentation of an object\")\n",
    "print(\"An Object is an instance Of a class\")\n",
    "print(\"Attributes are data stored inside a class or instance\")\n",
    "print(\"A class's behavior determines how an instance of that class operates, in short the methods we create to do particular task.\")"
   ]
  },
  {
   "cell_type": "code",
   "execution_count": 26,
   "metadata": {},
   "outputs": [
    {
     "name": "stdout",
     "output_type": "stream",
     "text": [
      "Alto\n",
      "1500000\n",
      "256kmph\n",
      "2012\n",
      "White\n",
      "\n",
      "\n",
      "Alto\n",
      "1500000\n",
      "256kmph\n",
      "2012\n",
      "Blue\n",
      "\n",
      "\n",
      "mehran\n",
      "6500000\n",
      "216kmph\n",
      "2002\n",
      "Yellow\n",
      "\n",
      "\n",
      "corolla\n",
      "1500000\n",
      "256kmph\n",
      "2019\n",
      "Blue\n",
      "\n",
      "\n",
      "fx\n",
      "1500000\n",
      "256kmph\n",
      "2012\n",
      "Purple\n",
      "\n",
      "\n",
      "suzuki\n",
      "3000000\n",
      "400kmph\n",
      "2012\n",
      "Pink\n"
     ]
    }
   ],
   "source": [
    "class Car():\n",
    "    def __init__(self, model, color, name, speed, price):\n",
    "        self.model = model\n",
    "        self.color = color\n",
    "        self.name = name\n",
    "        self.speed = speed\n",
    "        self.price = price\n",
    "        \n",
    "    def updateColor(self, color):\n",
    "            self.color = color\n",
    "    def updatePrice(self, price):\n",
    "            self.price = price\n",
    "    def updateModel(self, model):\n",
    "            self.model = model\n",
    "        \n",
    "alto = Car(\"2012\", \"White\", \"Alto\", \"256kmph\", \"1500000\")\n",
    "mehran = Car(\"2002\", \"Yellow\", \"mehran\", \"216kmph\", \"6500000\")\n",
    "corolla = Car(\"2019\", \"Blue\", \"corolla\", \"256kmph\", \"1500000\")\n",
    "fx = Car(\"2012\", \"Purple\", \"fx\", \"256kmph\", \"1500000\")\n",
    "suzuki = Car(\"2012\", \"Pink\", \"suzuki\", \"400kmph\", \"3000000\")\n",
    "\n",
    "print(alto.name)\n",
    "print(alto.price)\n",
    "print(alto.speed)\n",
    "print(alto.model)\n",
    "print(alto.color)\n",
    "\n",
    "## calling method ##\n",
    "print(\"\\n\")\n",
    "alto.updateColor(\"Blue\")\n",
    "print(alto.name)\n",
    "print(alto.price)\n",
    "print(alto.speed)\n",
    "print(alto.model)\n",
    "print(alto.color)\n",
    "\n",
    "print(\"\\n\")\n",
    "print(mehran.name)\n",
    "print(mehran.price)\n",
    "print(mehran.speed)\n",
    "print(mehran.model)\n",
    "print(mehran.color)\n",
    "\n",
    "print(\"\\n\")\n",
    "print(corolla.name)\n",
    "print(corolla.price)\n",
    "print(corolla.speed)\n",
    "print(corolla.model)\n",
    "print(corolla.color)\n",
    "\n",
    "print(\"\\n\")\n",
    "print(fx.name)\n",
    "print(fx.price)\n",
    "print(fx.speed)\n",
    "print(fx.model)\n",
    "print(fx.color)\n",
    "\n",
    "print(\"\\n\")\n",
    "print(suzuki.name)\n",
    "print(suzuki.price)\n",
    "print(suzuki.speed)\n",
    "print(suzuki.model)\n",
    "print(suzuki.color)"
   ]
  }
 ],
 "metadata": {
  "kernelspec": {
   "display_name": "Python 3",
   "language": "python",
   "name": "python3"
  },
  "language_info": {
   "codemirror_mode": {
    "name": "ipython",
    "version": 3
   },
   "file_extension": ".py",
   "mimetype": "text/x-python",
   "name": "python",
   "nbconvert_exporter": "python",
   "pygments_lexer": "ipython3",
   "version": "3.7.4"
  }
 },
 "nbformat": 4,
 "nbformat_minor": 2
}
