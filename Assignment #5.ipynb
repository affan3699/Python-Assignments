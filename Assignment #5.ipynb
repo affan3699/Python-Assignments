{
 "cells": [
  {
   "cell_type": "code",
   "execution_count": 22,
   "metadata": {},
   "outputs": [
    {
     "name": "stdout",
     "output_type": "stream",
     "text": [
      "Enter Number To Calculate Factorial: 5\n",
      "Factorial =  120\n"
     ]
    }
   ],
   "source": [
    "def fact(numb):\n",
    "    factorial = 1;\n",
    "    i = 1\n",
    "    while i <= numb:\n",
    "        factorial = factorial * i\n",
    "        i = i + 1\n",
    "        \n",
    "    print(\"Factorial = \",factorial)\n",
    "    \n",
    "    \n",
    "numb = int(input(\"Enter Number To Calculate Factorial: \"))\n",
    "fact(numb)"
   ]
  },
  {
   "cell_type": "code",
   "execution_count": 65,
   "metadata": {},
   "outputs": [
    {
     "name": "stdout",
     "output_type": "stream",
     "text": [
      "Enter a String: Affan Murtaza\n",
      "Upper Case =  2\n",
      "Lower Case =  11\n"
     ]
    }
   ],
   "source": [
    "def caculateUpperLower(str):\n",
    "    upper = lower = 0\n",
    "    for i in str:\n",
    "        if(i >= 'A' and i <= 'Z'):\n",
    "            upper = upper + 1\n",
    "        else:\n",
    "            lower = lower + 1\n",
    "            \n",
    "    print(\"Upper Case = \",upper)\n",
    "    print(\"Lower Case = \",lower)\n",
    "    \n",
    "str = input(\"Enter a String: \")\n",
    "caculateUpperLower(str)            "
   ]
  },
  {
   "cell_type": "code",
   "execution_count": 75,
   "metadata": {},
   "outputs": [
    {
     "name": "stdout",
     "output_type": "stream",
     "text": [
      "Even =  5\n"
     ]
    }
   ],
   "source": [
    "def even():\n",
    "    count = 0\n",
    "    list = [1, 2, 3, 4, 5, 6, 7, 8, 9, 10]\n",
    "    for i in list:\n",
    "        if i % 2 == 0:\n",
    "            count = count + 1\n",
    "    print(\"Even = \",count)\n",
    "    \n",
    "even()"
   ]
  },
  {
   "cell_type": "code",
   "execution_count": 124,
   "metadata": {},
   "outputs": [
    {
     "name": "stdout",
     "output_type": "stream",
     "text": [
      "Enter a String: madam\n",
      "Palindrome\n"
     ]
    }
   ],
   "source": [
    "def palindrome(str):\n",
    "    if(str[::-1] == str):\n",
    "        print(\"Palindrome\")\n",
    "    else:\n",
    "        print(\"Not a Palindrome\")\n",
    "        \n",
    "str = input(\"Enter a String: \")\n",
    "palindrome(str)"
   ]
  },
  {
   "cell_type": "code",
   "execution_count": 156,
   "metadata": {},
   "outputs": [
    {
     "name": "stdout",
     "output_type": "stream",
     "text": [
      "Enter a Number: 15\n",
      "Not a Prime Number\n"
     ]
    }
   ],
   "source": [
    "def prime(numb):\n",
    "    flag = 0\n",
    "    for i in range(2, numb):\n",
    "        if int(numb % i) == 0:\n",
    "            flag = 1\n",
    "            break\n",
    "            \n",
    "    if(flag == 1):\n",
    "        print(\"Not a Prime Number\")\n",
    "    else:\n",
    "        print(\"Prime Number\")\n",
    "\n",
    "numb = int(input(\"Enter a Number: \"))\n",
    "prime(numb)"
   ]
  },
  {
   "cell_type": "code",
   "execution_count": 173,
   "metadata": {},
   "outputs": [
    {
     "name": "stdout",
     "output_type": "stream",
     "text": [
      "Enter Item: Apple\n",
      "Enter Item: Orange\n",
      "Enter Item: Grapes\n",
      "Enter Item: Bannana\n",
      "Enter Item: Potato\n",
      "List Of Shopping Items:  ['Apple', 'Orange', 'Grapes', 'Bannana', 'Potato']\n"
     ]
    }
   ],
   "source": [
    "def shoppingItems(*items):\n",
    "    count = 1\n",
    "    for i in items:\n",
    "        print(\"List Of Shopping Items: \",i)\n",
    "\n",
    "        \n",
    "items = []\n",
    "for i in range(0, 5):\n",
    "    item = input(\"Enter Item: \")\n",
    "    items.append(item)\n",
    "    \n",
    "shoppingItems(items)"
   ]
  },
  {
   "cell_type": "code",
   "execution_count": null,
   "metadata": {},
   "outputs": [],
   "source": []
  }
 ],
 "metadata": {
  "kernelspec": {
   "display_name": "Python 3",
   "language": "python",
   "name": "python3"
  },
  "language_info": {
   "codemirror_mode": {
    "name": "ipython",
    "version": 3
   },
   "file_extension": ".py",
   "mimetype": "text/x-python",
   "name": "python",
   "nbconvert_exporter": "python",
   "pygments_lexer": "ipython3",
   "version": "3.7.4"
  }
 },
 "nbformat": 4,
 "nbformat_minor": 2
}
